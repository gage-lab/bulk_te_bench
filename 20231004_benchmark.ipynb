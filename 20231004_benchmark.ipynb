{
 "cells": [
  {
   "cell_type": "markdown",
   "metadata": {},
   "source": [
    "# Simulate a transcriptome with TE transcripts using polyester\n",
    "\n",
    "1. Generate transcriptome \n",
    " - Spliced and unspliced transcripts from GENCODE annotation\n",
    " - L1 transcripts from full-length L1HS-L1PA6 annotations in reference genome\n",
    " OR\n",
    " - L1 consensus sequences from RepBase (ask mike for file)\n",
    "\n",
    "2. Simulate reads with polyester (see code from `./mikes_old_notebook`)\n",
    "3. Quantify reads with salmon\n",
    " - build index of transcriptome (use same transcriptome from step 1)\n",
    " - quantify reads with salmon\n",
    "\n",
    "4. Compare with original count matrix\n",
    " - figure out how to get read counts from salmon (https://salmon.readthedocs.io/en/latest/file_formats.html)"
   ]
  }
 ],
 "metadata": {
  "language_info": {
   "name": "python"
  }
 },
 "nbformat": 4,
 "nbformat_minor": 2
}
