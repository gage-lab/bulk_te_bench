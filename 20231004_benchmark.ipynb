{
 "cells": [
  {
   "cell_type": "markdown",
   "metadata": {},
   "source": [
    "# Simulate a transcriptome with TE transcripts using polyester\n",
    "\n",
    "1. Generate transcriptome \n",
    " - Spliced and unspliced transcripts from GENCODE annotation\n",
    " - L1 transcripts from full-length L1HS-L1PA6 annotations in reference genome\n",
    " OR\n",
    " - L1 consensus sequences from RepBase (ask mike for file)\n",
    "\n",
    "2. Simulate reads with polyester (see code from `./mikes_old_notebook`)\n",
    "3. Quantify reads with salmon\n",
    " - build index of transcriptome (use same transcriptome from step 1)\n",
    " - quantify reads with salmon\n",
    "\n",
    "4. Compare with original count matrix\n",
    " - figure out how to get read counts from salmon (https://salmon.readthedocs.io/en/latest/file_formats.html)"
   ]
  },
  {
   "cell_type": "code",
   "execution_count": null,
   "metadata": {},
   "outputs": [],
   "source": [
    "## Generating transcriptome "
   ]
  },
  {
   "cell_type": "code",
   "execution_count": 1,
   "metadata": {},
   "outputs": [],
   "source": [
    "GENOME_FA = \"resources/hg38/hg38.fa\"\n",
    "TXOME_GTF = \"resources/hg38/gencode.v43.basic.annotation.gtf\"\n",
    "RMSK = \"resources/hg38/hg38.fa.out.gz\""
   ]
  },
  {
   "cell_type": "code",
   "execution_count": 2,
   "metadata": {},
   "outputs": [],
   "source": [
    "import pandas as pd\n",
    "from Bio import SeqIO\n",
    "from collections import defaultdict\n",
    "from pyutils.make_txome import make_txome\n",
    "from pyutils.simulate import run_polyester"
   ]
  },
  {
   "cell_type": "code",
   "execution_count": null,
   "metadata": {},
   "outputs": [],
   "source": [
    "# get L1 transcripts from annotations "
   ]
  },
  {
   "cell_type": "code",
   "execution_count": null,
   "metadata": {},
   "outputs": [],
   "source": []
  },
  {
   "cell_type": "code",
   "execution_count": null,
   "metadata": {},
   "outputs": [],
   "source": [
    "make_txome(\"GENCODE_USR\", GENOME_FA, TXOME_GTF, chromosome=\"chr22\")"
   ]
  }
 ],
 "metadata": {
  "kernelspec": {
   "display_name": "Python 3",
   "language": "python",
   "name": "python3"
  },
  "language_info": {
   "codemirror_mode": {
    "name": "ipython",
    "version": 3
   },
   "file_extension": ".py",
   "mimetype": "text/x-python",
   "name": "python",
   "nbconvert_exporter": "python",
   "pygments_lexer": "ipython3",
   "version": "3.10.12"
  }
 },
 "nbformat": 4,
 "nbformat_minor": 2
}
