{
 "cells": [
  {
   "cell_type": "code",
   "execution_count": 1,
   "metadata": {},
   "outputs": [],
   "source": [
    "# The purpose of this notebooks is to do two things:\n",
    "# 1. get all uniquely mapping reads from the bam file\n",
    "# 2. subset the bam file to only include top mapping reads"
   ]
  },
  {
   "cell_type": "code",
   "execution_count": 2,
   "metadata": {},
   "outputs": [],
   "source": [
    "import pysam\n",
    "import subprocess\n",
    "import pandas as pd"
   ]
  },
  {
   "cell_type": "code",
   "execution_count": 16,
   "metadata": {},
   "outputs": [],
   "source": [
    "def process_bams(prefix_path: str):\n",
    "\n",
    "    '''\n",
    "    add this to snakemake rule\n",
    "     # Step 1: Convert BAM to TSV\n",
    "    samtools view $bam_file | awk -F'\\t' '{score=\"\"; for(i=3; i<=NF; i++) { if ($i ~ /^AS:i:/) { score=substr($i, 6); break } } print $1 \"\\t\" score}' >  \"$input_directory/$bam_id/$bam_id.tsv\"\n",
    "\n",
    "        # Step 2: Sort TSV by Read ID and Score\n",
    "        sort -k1,1 -k2,2nr -o \"$input_directory/$bam_id/$bam_id.sorted.tsv\" \"$input_directory/$bam_id/$bam_id.tsv\"'''\n",
    "\n",
    "    bam_file = prefix_path + \".bam\"\n",
    "    # get top alignment score\n",
    "    sorted_tsv = prefix_path + \".sorted.tsv\"\n",
    "    df = pd.read_csv(\n",
    "        sorted_tsv,\n",
    "        sep=\"\\t\",\n",
    "        header=None,\n",
    "    )\n",
    "\n",
    "    unique_reads_full = list(df[0].value_counts()[df[0].value_counts() == 1].index)\n",
    "    best_read_counts = {read: 0 for read in df[0].unique()}\n",
    "\n",
    "    # iterate through df rows\n",
    "    # for each new value in col 0, save the first value in col 1\n",
    "    # save the read_id and alignment score in a dictionary\n",
    "\n",
    "    read_scores = {}\n",
    "    for row in df.itertuples():\n",
    "        if row[1] not in read_scores:\n",
    "            read_scores[row[1]] = row[2]\n",
    "\n",
    "    # Open the input and output BAM files\n",
    "    input_bam = pysam.AlignmentFile(bam_file, \"rb\")\n",
    "    output_bam = pysam.AlignmentFile(\n",
    "        prefix_path + \"_bestAS.bam\", \"wb\", template=input_bam\n",
    "    )\n",
    "\n",
    "    for read in input_bam:\n",
    "        # if AS tag is not present then skip\n",
    "        if read.has_tag(\"AS\"):\n",
    "\n",
    "            # if read does not have top AS then skip\n",
    "            if read_scores[read.query_name] == read.get_tag(\"AS\"):\n",
    "                output_bam.write(read)\n",
    "                best_read_counts[read.query_name] += 1\n",
    "\n",
    "    input_bam.close()\n",
    "    output_bam.close()\n",
    "    pysam.index(prefix_path + \"_bestAS.bam\")\n",
    "\n",
    "    # get the unique reads from the bam file\n",
    "    unique_reads_best = [\n",
    "        read for read in best_read_counts if best_read_counts[read] == 1\n",
    "    ]\n",
    "    # write the unique reads to a file\n",
    "    with open(prefix_path + \"_unique_reads_best.txt\", \"w\") as f:\n",
    "        for read in unique_reads_best:\n",
    "            f.write(read + \"\\n\")\n",
    "    with open(prefix_path + \"_unique_reads.txt\", \"w\") as f:\n",
    "        for read in unique_reads_full:\n",
    "            f.write(read + \"\\n\")"
   ]
  },
  {
   "cell_type": "code",
   "execution_count": null,
   "metadata": {},
   "outputs": [],
   "source": [
    "basepath = [\n",
    "    \"../longread_files/SGNex_MCF7_directcDNA_replicate3_run3/SGNex_MCF7_directcDNA_replicate3_run3\",\n",
    "    \"../longread_files/SGNex_MCF7_directcDNA_replicate1_run2/SGNex_MCF7_directcDNA_replicate1_run2\",\n",
    "    \"../longread_files/SGNex_MCF7_directcDNA_replicate4_run2/SGNex_MCF7_directcDNA_replicate4_run2\",\n",
    "]\n",
    "for prefix_path in basepath:\n",
    "    print(\"processing: \", prefix_path)\n",
    "    process_bams(prefix_path)"
   ]
  }
 ],
 "metadata": {
  "kernelspec": {
   "display_name": "new_bulk",
   "language": "python",
   "name": "python3"
  },
  "language_info": {
   "codemirror_mode": {
    "name": "ipython",
    "version": 3
   },
   "file_extension": ".py",
   "mimetype": "text/x-python",
   "name": "python",
   "nbconvert_exporter": "python",
   "pygments_lexer": "ipython3",
   "version": "3.10.8"
  },
  "orig_nbformat": 4
 },
 "nbformat": 4,
 "nbformat_minor": 2
}
