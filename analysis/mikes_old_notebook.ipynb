{
 "cells": [
  {
   "cell_type": "markdown",
   "metadata": {},
   "source": [
    "# Test Salmon to quantify TEs with simulated data"
   ]
  },
  {
   "cell_type": "code",
   "execution_count": 1,
   "metadata": {},
   "outputs": [
    {
     "ename": "ModuleNotFoundError",
     "evalue": "No module named 'benchmark'",
     "output_type": "error",
     "traceback": [
      "\u001b[0;31m---------------------------------------------------------------------------\u001b[0m",
      "\u001b[0;31mModuleNotFoundError\u001b[0m                       Traceback (most recent call last)",
      "\u001b[1;32m/logg/LOG-G4/mcuoco/projects/bulk_te_bench/mikes_old_notebook.ipynb Cell 2\u001b[0m line \u001b[0;36m4\n\u001b[1;32m      <a href='vscode-notebook-cell://ssh-remote%2Biblm1/logg/LOG-G4/mcuoco/projects/bulk_te_bench/mikes_old_notebook.ipynb#W1sdnNjb2RlLXJlbW90ZQ%3D%3D?line=1'>2</a>\u001b[0m \u001b[39mfrom\u001b[39;00m \u001b[39mBio\u001b[39;00m \u001b[39mimport\u001b[39;00m SeqIO\n\u001b[1;32m      <a href='vscode-notebook-cell://ssh-remote%2Biblm1/logg/LOG-G4/mcuoco/projects/bulk_te_bench/mikes_old_notebook.ipynb#W1sdnNjb2RlLXJlbW90ZQ%3D%3D?line=2'>3</a>\u001b[0m \u001b[39mfrom\u001b[39;00m \u001b[39mcollections\u001b[39;00m \u001b[39mimport\u001b[39;00m defaultdict\n\u001b[0;32m----> <a href='vscode-notebook-cell://ssh-remote%2Biblm1/logg/LOG-G4/mcuoco/projects/bulk_te_bench/mikes_old_notebook.ipynb#W1sdnNjb2RlLXJlbW90ZQ%3D%3D?line=3'>4</a>\u001b[0m \u001b[39mfrom\u001b[39;00m \u001b[39mbenchmark\u001b[39;00m\u001b[39m.\u001b[39;00m\u001b[39mmake_txome\u001b[39;00m \u001b[39mimport\u001b[39;00m make_txome\n\u001b[1;32m      <a href='vscode-notebook-cell://ssh-remote%2Biblm1/logg/LOG-G4/mcuoco/projects/bulk_te_bench/mikes_old_notebook.ipynb#W1sdnNjb2RlLXJlbW90ZQ%3D%3D?line=4'>5</a>\u001b[0m \u001b[39mfrom\u001b[39;00m \u001b[39mbenchmark\u001b[39;00m\u001b[39m.\u001b[39;00m\u001b[39msimulate\u001b[39;00m \u001b[39mimport\u001b[39;00m run_polyester\n",
      "\u001b[0;31mModuleNotFoundError\u001b[0m: No module named 'benchmark'"
     ]
    }
   ],
   "source": [
    "import pandas as pd\n",
    "from Bio import SeqIO\n",
    "from collections import defaultdict\n",
    "from benchmark.make_txome import make_txome\n",
    "from benchmark.simulate import run_polyester"
   ]
  },
  {
   "cell_type": "code",
   "execution_count": 2,
   "metadata": {},
   "outputs": [],
   "source": [
    "GENOME_FA = \"resources/hg38/hg38.fa\"\n",
    "TXOME_GTF = \"resources/hg38/gencode.v43.basic.annotation.gtf\"\n",
    "RMSK = \"resources/hg38/hg38.fa.out.gz\""
   ]
  },
  {
   "cell_type": "markdown",
   "metadata": {},
   "source": [
    "## Generate custom sequences"
   ]
  },
  {
   "cell_type": "code",
   "execution_count": 3,
   "metadata": {},
   "outputs": [
    {
     "name": "stderr",
     "output_type": "stream",
     "text": [
      "INFO:root:Retrieving SVA_E consensus sequence from DFAM API at https://dfam.org/api/families\n",
      "INFO:root:Retrieving SVA_F consensus sequence from DFAM API at https://dfam.org/api/families\n",
      "INFO:root:Retrieving AluY consensus sequence from DFAM API at https://dfam.org/api/families\n",
      "INFO:root:Retrieving HERVK consensus sequence from DFAM API at https://dfam.org/api/families\n",
      "INFO:root:Retrieving L1HS consensus sequence from REPBASE at /iblm/logglun02/mcuoco/projects/salmonTE_testing/resources/hg38/humrep.ref\n",
      "INFO:root:Using bedtools from /iblm/logglun02/mcuoco/projects/salmonTE_testing/.conda/bin/bedtools\n",
      "INFO:root:TE fasta written to /iblm/netapp/data4/mcuoco/tmp/tmp3cf0gk6l.fa\n",
      "INFO:root:Chromosome chr22 fasta written to /iblm/netapp/data4/mcuoco/tmp/tmp2hbe356g.fa\n",
      "INFO:root:Chromosome chr22 gtf written to /iblm/netapp/data4/mcuoco/tmp/tmpsusy55lq.gtf\n",
      "INFO:root:Saving spliceu txome to GENCODE_USR\n",
      "WARNING:root: Found gene(s) without exons; Ignored.\n",
      "WARNING:root: Found genes whose boundaries defined in the gene feature records do not equal to their exons' bounds. However, those boundaries were still used to extract unspliced sequences.\n",
      "WARNING:root: A clean GTF file with all issues fixed is generated at GENCODE_USR/clean_gtf.gtf. If needed, please rerun using this clean GTF file.\n"
     ]
    }
   ],
   "source": [
    "# ~2 min for chr22\n",
    "make_txome(\"GENCODE_USR\", GENOME_FA, TXOME_GTF, chromosome=\"chr22\")"
   ]
  },
  {
   "cell_type": "markdown",
   "metadata": {},
   "source": [
    "## Simulate reads with polyester"
   ]
  },
  {
   "cell_type": "code",
   "execution_count": 4,
   "metadata": {},
   "outputs": [],
   "source": [
    "txome_fa = \"GENCODE_USR/txome.fa\"\n",
    "\n",
    "# make count matrix to simulate from\n",
    "# ~20x coverage ----> reads per transcript = transcriptlength/readlength * 20\n",
    "# here all transcripts will have ~equal FPKM\n",
    "# read length = 100\n",
    "counts = defaultdict(list)\n",
    "for tx in SeqIO.parse(txome_fa, \"fasta\"):\n",
    "    counts[\"tx_id\"].append(tx.id)\n",
    "    for sample in range(0, 2):\n",
    "        if \"ENS\" in tx.id:\n",
    "            counts[i].append(20 * len(tx.seq) // 100)\n",
    "        elif \"L1HS\" in tx.id:\n",
    "            counts[i].append(i * len(tx.seq) // 100)\n",
    "        else:\n",
    "            counts[i].append(0)\n",
    "\n",
    "counts = pd.DataFrame(counts).set_index(\"tx_id\")"
   ]
  },
  {
   "cell_type": "code",
   "execution_count": 5,
   "metadata": {},
   "outputs": [
    {
     "name": "stderr",
     "output_type": "stream",
     "text": [
      "[Parallel(n_jobs=8)]: Using backend LokyBackend with 8 concurrent workers.\n",
      "[Parallel(n_jobs=8)]: Done   2 out of   8 | elapsed:  2.2min remaining:  6.5min\n",
      "[Parallel(n_jobs=8)]: Done   3 out of   8 | elapsed:  3.6min remaining:  6.1min\n",
      "[Parallel(n_jobs=8)]: Done   4 out of   8 | elapsed:  7.8min remaining:  7.8min\n",
      "[Parallel(n_jobs=8)]: Done   5 out of   8 | elapsed:  9.8min remaining:  5.9min\n",
      "[Parallel(n_jobs=8)]: Done   6 out of   8 | elapsed: 14.3min remaining:  4.8min\n",
      "[Parallel(n_jobs=8)]: Done   8 out of   8 | elapsed: 30.4min finished\n",
      "INFO:root:Merging simulated reads\n"
     ]
    }
   ],
   "source": [
    "# takes ~30-40 min for 2 samples and chr22\n",
    "run_polyester(txome_fa, counts, outdir=\"test\", n_jobs=8)"
   ]
  }
 ],
 "metadata": {
  "kernelspec": {
   "display_name": "Python 3",
   "language": "python",
   "name": "python3"
  },
  "language_info": {
   "codemirror_mode": {
    "name": "ipython",
    "version": 3
   },
   "file_extension": ".py",
   "mimetype": "text/x-python",
   "name": "python",
   "nbconvert_exporter": "python",
   "pygments_lexer": "ipython3",
   "version": "3.10.8"
  },
  "orig_nbformat": 4
 },
 "nbformat": 4,
 "nbformat_minor": 2
}
