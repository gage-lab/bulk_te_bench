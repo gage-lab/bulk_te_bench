{
 "cells": [
  {
   "attachments": {},
   "cell_type": "markdown",
   "metadata": {},
   "source": [
    "# Simulate a transcriptome with TE transcripts using polyester\n",
    "\n",
    "1. Generate transcriptome \n",
    " - Spliced and unspliced transcripts from GENCODE annotation\n",
    " - L1 transcripts from full-length L1HS-L1PA6 annotations in reference genome\n",
    " OR\n",
    " - L1 consensus sequences from RepBase (ask mike for file)\n",
    "\n",
    "2. Simulate reads with polyester (see code from `./mikes_old_notebook`)\n",
    "3. Quantify reads with salmon\n",
    " - build index of transcriptome (use same transcriptome from step 1)\n",
    " - quantify reads with salmon\n",
    "\n",
    "4. Compare with original count matrix\n",
    " - figure out how to get read counts from salmon (https://salmon.readthedocs.io/en/latest/file_formats.html)"
   ]
  },
  {
   "cell_type": "code",
   "execution_count": 1,
   "metadata": {},
   "outputs": [],
   "source": [
    "import pandas as pd\n",
    "from collections import defaultdict\n",
    "import pyranges as pr\n",
    "from src.make_txome import make_txome\n",
    "from src.simulate import run_polyester"
   ]
  },
  {
   "attachments": {},
   "cell_type": "markdown",
   "metadata": {},
   "source": [
    "## Generating transcriptome "
   ]
  },
  {
   "attachments": {},
   "cell_type": "markdown",
   "metadata": {},
   "source": [
    "### Get L1 transcripts from annotations in reference genome"
   ]
  },
  {
   "cell_type": "code",
   "execution_count": 3,
   "metadata": {},
   "outputs": [],
   "source": [
    "# read parsed rmsk file\n",
    "# NOTE: ignore has_promoter column for now, not sure if it is accurate\n",
    "rmsk = pd.read_csv(\"resources/hg38.rmsk.tsv\", sep=\"\\t\")\n",
    "rmsk = rmsk[(rmsk.repName == \"L1HS\") & (rmsk.length > 6000)]\n",
    "rmsk = rmsk[[\"genoName\", \"genoStart\", \"genoEnd\", \"strand\"]].rename(\n",
    "    columns={\n",
    "        \"genoName\": \"Chromosome\",\n",
    "        \"genoStart\": \"Start\",\n",
    "        \"genoEnd\": \"End\",\n",
    "        \"strand\": \"Strand\",\n",
    "    }\n",
    ")\n",
    "\n",
    "# save as bedfile\n",
    "L1_BED = \"../resources/hg38_FL_L1HS.bed\"\n",
    "pr.PyRanges(rmsk).to_bed(L1_BED)\n",
    "\n",
    "# use bedfile to extract sequences from fasta, save to new fasta\n",
    "GENOME_FA = \"../resources/hg38.fa\"\n",
    "L1_FA = \"../resources/hg38_FL_L1HS.fa\"\n",
    "!bedtools getfasta -s -fi {GENOME_FA} -bed {L1_BED} -fo {L1_FA}"
   ]
  },
  {
   "cell_type": "code",
   "execution_count": 4,
   "metadata": {},
   "outputs": [
    {
     "name": "stderr",
     "output_type": "stream",
     "text": [
      "INFO:root:Using bedtools from /logg/LOG-G4/mcuoco/projects/salmonTE_testing/.conda/bin/bedtools\n",
      "INFO:root:Chromosome chr22 fasta written to /iblm/netapp/data4/mcuoco/tmp/tmpdjn2n4pw.fa\n",
      "INFO:root:Chromosome chr22 gtf written to /iblm/netapp/data4/mcuoco/tmp/tmpxodq6lj1.gtf\n",
      "INFO:root:Saving spliceu txome to new_data\n",
      "WARNING:root: Found gene(s) without exons; Ignored.\n",
      "WARNING:root: Found genes whose boundaries defined in the gene feature records do not equal to their exons' bounds. However, those boundaries were still used to extract unspliced sequences.\n",
      "WARNING:root: A clean GTF file with all issues fixed is generated at new_data/clean_gtf.gtf. If needed, please rerun using this clean GTF file.\n"
     ]
    }
   ],
   "source": [
    "### Generating transcriptome\n",
    "# - use the code from make_txome to make a gtf file with the L1 annotations\n",
    "TXOME_GTF = \"../resources/gencode.v44.primary_assembly.basic.annotation.gtf\"\n",
    "make_txome(\"chr22_txome\", GENOME_FA, TXOME_GTF, L1_FA, chromosome=\"chr22\")"
   ]
  },
  {
   "cell_type": "code",
   "execution_count": null,
   "metadata": {},
   "outputs": [],
   "source": [
    "# TODO\n",
    "# - check if the above worked and makese sense?\n",
    "# - maybe redo with the consensus files instead\n",
    "# - add other l1 files"
   ]
  }
 ],
 "metadata": {
  "kernelspec": {
   "display_name": "Python 3",
   "language": "python",
   "name": "python3"
  },
  "language_info": {
   "codemirror_mode": {
    "name": "ipython",
    "version": 3
   },
   "file_extension": ".py",
   "mimetype": "text/x-python",
   "name": "python",
   "nbconvert_exporter": "python",
   "pygments_lexer": "ipython3",
   "version": "3.10.12"
  }
 },
 "nbformat": 4,
 "nbformat_minor": 2
}
