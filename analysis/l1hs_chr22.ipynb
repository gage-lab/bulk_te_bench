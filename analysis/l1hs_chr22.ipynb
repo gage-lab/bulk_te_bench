{
 "cells": [
  {
   "attachments": {},
   "cell_type": "markdown",
   "metadata": {},
   "source": [
    "# Simulate a transcriptome with TE transcripts using polyester\n",
    "\n",
    "1. Generate transcriptome, index it, and simulate reads ([see code](./make_l1hs_chr22_txome.py))\n",
    " - Spliced and unspliced transcripts from GENCODE annotation\n",
    " - L1 transcripts from full-length L1HS annotations in reference genome\n",
    "\n",
    "2. Quantify reads with salmon\n",
    " - build index of transcriptome (use same transcriptome from step 1)\n",
    " - quantify reads with salmon\n",
    "\n",
    "3. Compare with original count matrix"
   ]
  },
  {
   "cell_type": "code",
   "execution_count": 1,
   "metadata": {},
   "outputs": [],
   "source": [
    "import pandas as pd\n",
    "import seaborn as sns\n",
    "import matplotlib.pyplot as plt\n",
    "from src.bench import BenchmarkSalmon"
   ]
  },
  {
   "cell_type": "code",
   "execution_count": 3,
   "metadata": {},
   "outputs": [
    {
     "name": "stderr",
     "output_type": "stream",
     "text": [
      "[INFO:src.bench: 11-01 21:28:14] - Running Salmon quant for sample_01\n",
      "[INFO:src.bench: 11-01 21:29:08] - Running Salmon quant for sample_02\n",
      "[INFO:src.bench: 11-01 21:30:05] - Running Salmon quant for sample_03\n",
      "[INFO:src.bench: 11-01 21:31:03] - Running Salmon quant for sample_04\n",
      "[INFO:src.bench: 11-01 21:31:59] - Running Salmon quant for sample_05\n"
     ]
    }
   ],
   "source": [
    "bm = BenchmarkSalmon(\n",
    "    reads_dir=\"../resources/chr22_l1hs_txome/sim_reads_1\",\n",
    "    txome_dir=\"../resources/chr22_l1hs_txome\",\n",
    "    outdir=\"../resources/chr22_l1hs_txome/sim_reads_1_salmon\",\n",
    ")\n",
    "# bm.index()\n",
    "bm.quant()\n",
    "benchmark = bm.read_counts()"
   ]
  },
  {
   "cell_type": "code",
   "execution_count": 4,
   "metadata": {},
   "outputs": [
    {
     "ename": "ValueError",
     "evalue": "Must run read_counts() first!",
     "output_type": "error",
     "traceback": [
      "\u001b[0;31m---------------------------------------------------------------------------\u001b[0m",
      "\u001b[0;31mValueError\u001b[0m                                Traceback (most recent call last)",
      "Cell \u001b[0;32mIn[4], line 1\u001b[0m\n\u001b[0;32m----> 1\u001b[0m bm\u001b[39m.\u001b[39;49mplot_difference()\n\u001b[1;32m      2\u001b[0m bm\u001b[39m.\u001b[39mplot_l1hs()\n",
      "File \u001b[0;32m/netapp/LOG-G4/jfaybishenko/bulk_te_bench/src/bench.py:62\u001b[0m, in \u001b[0;36mBenchmark.plot_difference\u001b[0;34m(self)\u001b[0m\n\u001b[1;32m     57\u001b[0m \u001b[39m\u001b[39m\u001b[39m\"\"\"\u001b[39;00m\n\u001b[1;32m     58\u001b[0m \u001b[39mPlot difference of estimated vs true counts in boxplots\u001b[39;00m\n\u001b[1;32m     59\u001b[0m \u001b[39m\"\"\"\u001b[39;00m\n\u001b[1;32m     61\u001b[0m \u001b[39mif\u001b[39;00m \u001b[39mself\u001b[39m\u001b[39m.\u001b[39mbenchmark \u001b[39mis\u001b[39;00m \u001b[39mNone\u001b[39;00m:\n\u001b[0;32m---> 62\u001b[0m     \u001b[39mraise\u001b[39;00m \u001b[39mValueError\u001b[39;00m(\u001b[39m\"\u001b[39m\u001b[39mMust run read_counts() first!\u001b[39m\u001b[39m\"\u001b[39m)\n\u001b[1;32m     64\u001b[0m ax \u001b[39m=\u001b[39m plt\u001b[39m.\u001b[39mgca()\n\u001b[1;32m     65\u001b[0m sns\u001b[39m.\u001b[39mboxplot(\n\u001b[1;32m     66\u001b[0m     data\u001b[39m=\u001b[39m\u001b[39mself\u001b[39m\u001b[39m.\u001b[39mbenchmark[\u001b[39m~\u001b[39m\u001b[39mself\u001b[39m\u001b[39m.\u001b[39mbenchmark\u001b[39m.\u001b[39mtx_id\u001b[39m.\u001b[39mstr\u001b[39m.\u001b[39mcontains(\u001b[39m\"\u001b[39m\u001b[39mchr\u001b[39m\u001b[39m\"\u001b[39m)],\n\u001b[1;32m     67\u001b[0m     x\u001b[39m=\u001b[39m\u001b[39m\"\u001b[39m\u001b[39msample\u001b[39m\u001b[39m\"\u001b[39m,\n\u001b[1;32m     68\u001b[0m     y\u001b[39m=\u001b[39m\u001b[39m\"\u001b[39m\u001b[39mlog2_abs_difference\u001b[39m\u001b[39m\"\u001b[39m,\n\u001b[1;32m     69\u001b[0m     ax\u001b[39m=\u001b[39max,\n\u001b[1;32m     70\u001b[0m )\n",
      "\u001b[0;31mValueError\u001b[0m: Must run read_counts() first!"
     ]
    }
   ],
   "source": [
    "bm.plot_difference()\n",
    "bm.plot_l1hs()"
   ]
  },
  {
   "cell_type": "code",
   "execution_count": null,
   "metadata": {},
   "outputs": [
    {
     "name": "stderr",
     "output_type": "stream",
     "text": [
      "[INFO:src.bench: 11-01 21:22:03] - Running Salmon quant for sample_01\n",
      "[INFO:src.bench: 11-01 21:23:02] - Running Salmon quant for sample_02\n"
     ]
    }
   ],
   "source": [
    "bm = BenchmarkSalmon(\n",
    "    reads_dir=\"../resources/chr22_l1hs_txome/sim_reads_2\",\n",
    "    txome_dir=\"../resources/chr22_l1hs_txome\",\n",
    "    outdir=\"../resources/chr22_l1hs_txome/sim_reads_2_salmon\",\n",
    ")\n",
    "# bm.index()\n",
    "bm.quant()\n",
    "benchmark = bm.read_counts()\n",
    "\n",
    "bm.plot_difference()\n",
    "bm.plot_l1hs()"
   ]
  },
  {
   "cell_type": "code",
   "execution_count": null,
   "metadata": {},
   "outputs": [],
   "source": [
    "bm = BenchmarkSalmon(\n",
    "    reads_dir=\"../resources/chr22_l1hs_txome/sim_reads_3\",\n",
    "    txome_dir=\"../resources/chr22_l1hs_txome\",\n",
    "    outdir=\"../resources/chr22_l1hs_txome/sim_reads_3_salmon\",\n",
    ")\n",
    "# bm.index()\n",
    "bm.quant()\n",
    "benchmark = bm.read_counts()\n",
    "\n",
    "bm.plot_difference()\n",
    "bm.plot_l1hs()"
   ]
  },
  {
   "cell_type": "code",
   "execution_count": null,
   "metadata": {},
   "outputs": [],
   "source": [
    "bm = BenchmarkSalmon(\n",
    "    reads_dir=\"../resources/chr22_l1hs_txome/sim_reads_4\",\n",
    "    txome_dir=\"../resources/chr22_l1hs_txome\",\n",
    "    outdir=\"../resources/chr22_l1hs_txome/sim_reads_4_salmon\",\n",
    ")\n",
    "# bm.index()\n",
    "bm.quant()\n",
    "benchmark = bm.read_counts()\n",
    "\n",
    "bm.plot_difference()\n",
    "bm.plot_l1hs()"
   ]
  },
  {
   "cell_type": "code",
   "execution_count": null,
   "metadata": {},
   "outputs": [],
   "source": [
    "bm = BenchmarkSalmon(\n",
    "    reads_dir=\"../resources/chr22_l1hs_txome/sim_reads_5\",\n",
    "    txome_dir=\"../resources/chr22_l1hs_txome\",\n",
    "    outdir=\"../resources/chr22_l1hs_txome/sim_reads_5_salmon\",\n",
    ")\n",
    "\n",
    "bm.index()\n",
    "bm.quant()\n",
    "benchmark = bm.read_counts()\n",
    "\n",
    "bm.plot_difference()\n",
    "bm.plot_l1hs()"
   ]
  },
  {
   "attachments": {},
   "cell_type": "markdown",
   "metadata": {},
   "source": [
    "## Next steps:\n",
    "\n",
    "1. How does this compare to TEtranscripts, SQuIRE, and L1EM??\n",
    "\t- add each program to conda environment\n",
    "\t- write subclass in `src/bench.py` to run each program \n",
    "2. Simulate reads with non-uniform distributions in L1 only. Choose different number for each L1 in each sample. Add to `make_l1hs_chr22_txome.py` script.\n",
    "3. Simulate reads with non-uniform distributions in non-L1, constant L1. Add to `make_l1hs_chr22_txome.py` script.\n",
    "\n",
    "\tTo generate a more realistic simulation, see Salmon Paper methods on Polyester simulations https://www.ncbi.nlm.nih.gov/pmc/articles/PMC5600148/\n",
    "\n",
    "4. Try different salmon indexing (-k) and quantification parameters (e.g. --seqBias, --gcBias, --posBias)\n",
    "5. Inspect intermediate results of salmon (where are L1 reads mapping?)"
   ]
  }
 ],
 "metadata": {
  "kernelspec": {
   "display_name": "Python 3 (ipykernel)",
   "language": "python",
   "name": "python3"
  },
  "language_info": {
   "codemirror_mode": {
    "name": "ipython",
    "version": 3
   },
   "file_extension": ".py",
   "mimetype": "text/x-python",
   "name": "python",
   "nbconvert_exporter": "python",
   "pygments_lexer": "ipython3",
   "version": "3.10.12"
  }
 },
 "nbformat": 4,
 "nbformat_minor": 2
}
