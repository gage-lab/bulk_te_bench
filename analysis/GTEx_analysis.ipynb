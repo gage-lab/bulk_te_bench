{
 "cells": [
  {
   "cell_type": "code",
   "execution_count": null,
   "metadata": {},
   "outputs": [],
   "source": [
    "import pandas as pd\n",
    "import seaborn as sns\n",
    "import matplotlib.pyplot as plt\n",
    "import pyranges as pr"
   ]
  },
  {
   "cell_type": "code",
   "execution_count": null,
   "metadata": {},
   "outputs": [],
   "source": [
    "# read in the data with pyranges\n",
    "gtf = pr.read_gtf(\"../resources/gencode.v26.basic.annotation.gtf.gz\")"
   ]
  },
  {
   "cell_type": "code",
   "execution_count": null,
   "metadata": {},
   "outputs": [],
   "source": [
    "gtf"
   ]
  },
  {
   "cell_type": "code",
   "execution_count": null,
   "metadata": {},
   "outputs": [],
   "source": [
    "# Let's do math!\n",
    "\n",
    "# We want a mapping of number of transcripts per gene\n",
    "\n",
    "file_path = \"../resources/GTEX/GTEx_Analysis_2017-06-05_v8_RNASeQCv1.1.9_gene_reads.gct\"\n",
    "df = pd.read_csv(file_path, sep=\"\\t\", skiprows=2)"
   ]
  },
  {
   "cell_type": "code",
   "execution_count": null,
   "metadata": {},
   "outputs": [],
   "source": [
    "df"
   ]
  },
  {
   "cell_type": "code",
   "execution_count": null,
   "metadata": {},
   "outputs": [],
   "source": [
    "#  iterate over txome_g2g.tsv and create a dictionary mapping gene name to # of transcripts\n",
    "\n",
    "mapping_file = \"../resources/chr22_l1hs_txome/txome_t2g.tsv\"\n",
    "# create a dictionary mapping gene name to # of transcripts\n",
    "gene_to_tx_df = pd.read_csv(mapping_file, sep=\"\\t\", header=None)\n",
    "# count duplicates in the gene column\n",
    "gene_to_tx_df[1].value_counts()"
   ]
  },
  {
   "cell_type": "code",
   "execution_count": null,
   "metadata": {},
   "outputs": [],
   "source": [
    "mapping_file = \"../resources/chr22_l1hs_txome/txome_t2g_3col.tsv\"\n",
    "# create a dictionary mapping gene name to # of transcripts\n",
    "gene_to_tx_df = pd.read_csv(mapping_file, sep=\"\\t\", header=None)\n",
    "# count duplicates in the gene column\n",
    "gene_to_tx_df[1].value_counts()"
   ]
  },
  {
   "cell_type": "code",
   "execution_count": null,
   "metadata": {},
   "outputs": [],
   "source": [
    "genes_of_interest = set(df[\"name\"]) & set(gene_to_tx_df[1])\n",
    "df = df[df[\"name\"].isin(genes_of_interest)]"
   ]
  },
  {
   "cell_type": "code",
   "execution_count": null,
   "metadata": {},
   "outputs": [],
   "source": [
    "# get first four columns of GTEx data\n",
    "df.iloc[:, 0:4].head()"
   ]
  }
 ],
 "metadata": {
  "kernelspec": {
   "display_name": "Python 3",
   "language": "python",
   "name": "python3"
  },
  "language_info": {
   "codemirror_mode": {
    "name": "ipython",
    "version": 3
   },
   "file_extension": ".py",
   "mimetype": "text/x-python",
   "name": "python",
   "nbconvert_exporter": "python",
   "pygments_lexer": "ipython3",
   "version": "3.10.12"
  },
  "orig_nbformat": 4
 },
 "nbformat": 4,
 "nbformat_minor": 2
}
